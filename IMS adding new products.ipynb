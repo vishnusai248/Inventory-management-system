{
 "cells": [
  {
   "cell_type": "code",
   "execution_count": 1,
   "id": "0d1d529d",
   "metadata": {},
   "outputs": [],
   "source": [
    "import json"
   ]
  },
  {
   "cell_type": "code",
   "execution_count": 3,
   "id": "1ac87d8e",
   "metadata": {},
   "outputs": [],
   "source": [
    "fd=open(\"productdata.json\",\"r\")\n",
    "pdata=fd.read()\n",
    "fd.close()"
   ]
  },
  {
   "cell_type": "code",
   "execution_count": 3,
   "id": "c5422a86",
   "metadata": {},
   "outputs": [
    {
     "data": {
      "text/plain": [
       "'{\"1\": {\"prname\": \"parle-g biscuits\", \"qty\": 150, \"price\": 20}, \"2\": {\"prname\": \"good day biscuits\", \"qty\": 100, \"price\": 10}, \"3\": {\"prname\": \"marrie gold\", \"qty\": 100, \"price\": 20}, \"4\": {\"prname\": \"dairy milk\", \"qty\": 150, \"price\": 50}, \"5\": {\"prname\": \"5 star\", \"qty\": 200, \"price\": 10}, \"6\": {\"prname\": \"perk\", \"qty\": 200, \"price\": 20}, \"7\": {\"prname\": \"snickers\", \"qty\": 100, \"price\": 20}, \"8\": {\"prname\": \"kur kuray\", \"qty\": 200, \"price\": 10}, \"9\": {\"prname\": \"lays\", \"qty\": 300, \"price\": 10}, \"10\": {\"prname\": \"coca cola\", \"qty\": 200, \"price\": 110}, \"11\": {\"prname\": \"coca cola\", \"qty\": 300, \"price\": 60}, \"12\": {\"prname\": \"pepsi\", \"qty\": 100, \"price\": 25}, \"13\": {\"prname\": \"sprite\", \"qty\": 300, \"price\": 25}, \"14\": {\"prname\": \"sprite\", \"qty\": 200, \"price\": 120}, \"15\": {\"prname\": \"cake\", \"qty\": 20, \"price\": 250}, \"16\": {\"prname\": \"samosa\", \"qty\": 50, \"price\": 20}, \"17\": {\"prname\": \"thumsup\", \"qty\": 200, \"price\": 25}, \"18\": {\"prname\": \"thumsup\", \"qty\": 90, \"price\": 140}, \"19\": {\"prname\": \"puff\", \"qty\": 50, \"price\": 15}, \"20\": {\"prname\": \"gems\", \"qty\": 100, \"price\": 10}, \"21\": {\"prname\": \"ice cream\", \"qty\": 50, \"price\": 30}, \"22\": {\"prname\": \"dark chcolate\", \"qty\": 20, \"price\": 100}, \"23\": {\"prname\": \"white chocolate\", \"qty\": 20, \"price\": 100}, \"24\": {\"prname\": \"fanta\", \"qty\": 20, \"price\": 20}, \"25\": {\"prname\": \"bred\", \"qty\": 50, \"price\": 10}, \"26\": {\"prname\": \"cookies\", \"qty\": 100, \"price\": 20}, \"27\": {\"prname\": \"moongdhal\", \"qty\": 50, \"price\": 10}, \"28\": {\"prname\": \"burger\", \"qty\": 20, \"price\": 50}, \"29\": {\"prname\": \"milkshake\", \"qty\": 20, \"price\": 80}, \"30\": {\"prname\": \"fruitsalad\", \"qty\": 20, \"price\": 50}}'"
      ]
     },
     "execution_count": 3,
     "metadata": {},
     "output_type": "execute_result"
    }
   ],
   "source": [
    "pdata"
   ]
  },
  {
   "cell_type": "code",
   "execution_count": 4,
   "id": "39b6dd41",
   "metadata": {},
   "outputs": [],
   "source": [
    "precord=json.loads(pdata)"
   ]
  },
  {
   "cell_type": "code",
   "execution_count": 5,
   "id": "c3640fdf",
   "metadata": {},
   "outputs": [
    {
     "data": {
      "text/plain": [
       "{'1': {'prname': 'parle-g biscuits', 'qty': 150, 'price': 20},\n",
       " '2': {'prname': 'good day biscuits', 'qty': 100, 'price': 10},\n",
       " '3': {'prname': 'marrie gold', 'qty': 100, 'price': 20},\n",
       " '4': {'prname': 'dairy milk', 'qty': 150, 'price': 50},\n",
       " '5': {'prname': '5 star', 'qty': 200, 'price': 10},\n",
       " '6': {'prname': 'perk', 'qty': 200, 'price': 20},\n",
       " '7': {'prname': 'snickers', 'qty': 100, 'price': 20},\n",
       " '8': {'prname': 'kur kuray', 'qty': 200, 'price': 10},\n",
       " '9': {'prname': 'lays', 'qty': 300, 'price': 10},\n",
       " '10': {'prname': 'coca cola', 'qty': 200, 'price': 110},\n",
       " '11': {'prname': 'coca cola', 'qty': 300, 'price': 60},\n",
       " '12': {'prname': 'pepsi', 'qty': 100, 'price': 25},\n",
       " '13': {'prname': 'sprite', 'qty': 300, 'price': 25},\n",
       " '14': {'prname': 'sprite', 'qty': 200, 'price': 120},\n",
       " '15': {'prname': 'cake', 'qty': 20, 'price': 250},\n",
       " '16': {'prname': 'samosa', 'qty': 50, 'price': 20},\n",
       " '17': {'prname': 'thumsup', 'qty': 200, 'price': 25},\n",
       " '18': {'prname': 'thumsup', 'qty': 90, 'price': 140},\n",
       " '19': {'prname': 'puff', 'qty': 50, 'price': 15},\n",
       " '20': {'prname': 'gems', 'qty': 100, 'price': 10},\n",
       " '21': {'prname': 'ice cream', 'qty': 50, 'price': 30},\n",
       " '22': {'prname': 'dark chcolate', 'qty': 20, 'price': 100},\n",
       " '23': {'prname': 'white chocolate', 'qty': 20, 'price': 100},\n",
       " '24': {'prname': 'fanta', 'qty': 20, 'price': 20},\n",
       " '25': {'prname': 'bred', 'qty': 50, 'price': 10},\n",
       " '26': {'prname': 'cookies', 'qty': 100, 'price': 20},\n",
       " '27': {'prname': 'moongdhal', 'qty': 50, 'price': 10},\n",
       " '28': {'prname': 'burger', 'qty': 20, 'price': 50},\n",
       " '29': {'prname': 'milkshake', 'qty': 20, 'price': 80},\n",
       " '30': {'prname': 'fruitsalad', 'qty': 20, 'price': 50}}"
      ]
     },
     "execution_count": 5,
     "metadata": {},
     "output_type": "execute_result"
    }
   ],
   "source": [
    "precord"
   ]
  },
  {
   "cell_type": "code",
   "execution_count": 6,
   "id": "6aa118fd",
   "metadata": {},
   "outputs": [
    {
     "name": "stdout",
     "output_type": "stream",
     "text": [
      "Enter the product id : 33\n",
      "Enter the product name : milkybar\n",
      "Enter the quantity of product : 300\n",
      "Enter the product price : 5\n"
     ]
    }
   ],
   "source": [
    "p_id=input(\"Enter the product id : \")\n",
    "p_name=input(\"Enter the product name : \")\n",
    "p_quant=input(\"Enter the quantity of product : \")\n",
    "p_price=input(\"Enter the product price : \")"
   ]
  },
  {
   "cell_type": "code",
   "execution_count": 7,
   "id": "88f0ee66",
   "metadata": {},
   "outputs": [],
   "source": [
    "precord[p_id]={\"prname\" : p_name,\"qty\": p_quant,\"price\":p_price}"
   ]
  },
  {
   "cell_type": "code",
   "execution_count": 8,
   "id": "1a875c1e",
   "metadata": {},
   "outputs": [
    {
     "data": {
      "text/plain": [
       "{'1': {'prname': 'parle-g biscuits', 'qty': 150, 'price': 20},\n",
       " '2': {'prname': 'good day biscuits', 'qty': 100, 'price': 10},\n",
       " '3': {'prname': 'marrie gold', 'qty': 100, 'price': 20},\n",
       " '4': {'prname': 'dairy milk', 'qty': 150, 'price': 50},\n",
       " '5': {'prname': '5 star', 'qty': 200, 'price': 10},\n",
       " '6': {'prname': 'perk', 'qty': 200, 'price': 20},\n",
       " '7': {'prname': 'snickers', 'qty': 100, 'price': 20},\n",
       " '8': {'prname': 'kur kuray', 'qty': 200, 'price': 10},\n",
       " '9': {'prname': 'lays', 'qty': 300, 'price': 10},\n",
       " '10': {'prname': 'coca cola', 'qty': 200, 'price': 110},\n",
       " '11': {'prname': 'coca cola', 'qty': 300, 'price': 60},\n",
       " '12': {'prname': 'pepsi', 'qty': 100, 'price': 25},\n",
       " '13': {'prname': 'sprite', 'qty': 300, 'price': 25},\n",
       " '14': {'prname': 'sprite', 'qty': 200, 'price': 120},\n",
       " '15': {'prname': 'cake', 'qty': 20, 'price': 250},\n",
       " '16': {'prname': 'samosa', 'qty': 50, 'price': 20},\n",
       " '17': {'prname': 'thumsup', 'qty': 200, 'price': 25},\n",
       " '18': {'prname': 'thumsup', 'qty': 90, 'price': 140},\n",
       " '19': {'prname': 'puff', 'qty': 50, 'price': 15},\n",
       " '20': {'prname': 'gems', 'qty': 100, 'price': 10},\n",
       " '21': {'prname': 'ice cream', 'qty': 50, 'price': 30},\n",
       " '22': {'prname': 'dark chcolate', 'qty': 20, 'price': 100},\n",
       " '23': {'prname': 'white chocolate', 'qty': 20, 'price': 100},\n",
       " '24': {'prname': 'fanta', 'qty': 20, 'price': 20},\n",
       " '25': {'prname': 'bred', 'qty': 50, 'price': 10},\n",
       " '26': {'prname': 'cookies', 'qty': 100, 'price': 20},\n",
       " '27': {'prname': 'moongdhal', 'qty': 50, 'price': 10},\n",
       " '28': {'prname': 'burger', 'qty': 20, 'price': 50},\n",
       " '29': {'prname': 'milkshake', 'qty': 20, 'price': 80},\n",
       " '30': {'prname': 'fruitsalad', 'qty': 20, 'price': 50},\n",
       " '33': {'prname': 'milkybar', 'qty': '300', 'price': '5'}}"
      ]
     },
     "execution_count": 8,
     "metadata": {},
     "output_type": "execute_result"
    }
   ],
   "source": [
    "precord"
   ]
  },
  {
   "cell_type": "code",
   "execution_count": 9,
   "id": "0716431b",
   "metadata": {},
   "outputs": [],
   "source": [
    "finaldata=json.dumps(precord)"
   ]
  },
  {
   "cell_type": "code",
   "execution_count": 10,
   "id": "6e7e17bc",
   "metadata": {},
   "outputs": [
    {
     "data": {
      "text/plain": [
       "'{\"1\": {\"prname\": \"parle-g biscuits\", \"qty\": 150, \"price\": 20}, \"2\": {\"prname\": \"good day biscuits\", \"qty\": 100, \"price\": 10}, \"3\": {\"prname\": \"marrie gold\", \"qty\": 100, \"price\": 20}, \"4\": {\"prname\": \"dairy milk\", \"qty\": 150, \"price\": 50}, \"5\": {\"prname\": \"5 star\", \"qty\": 200, \"price\": 10}, \"6\": {\"prname\": \"perk\", \"qty\": 200, \"price\": 20}, \"7\": {\"prname\": \"snickers\", \"qty\": 100, \"price\": 20}, \"8\": {\"prname\": \"kur kuray\", \"qty\": 200, \"price\": 10}, \"9\": {\"prname\": \"lays\", \"qty\": 300, \"price\": 10}, \"10\": {\"prname\": \"coca cola\", \"qty\": 200, \"price\": 110}, \"11\": {\"prname\": \"coca cola\", \"qty\": 300, \"price\": 60}, \"12\": {\"prname\": \"pepsi\", \"qty\": 100, \"price\": 25}, \"13\": {\"prname\": \"sprite\", \"qty\": 300, \"price\": 25}, \"14\": {\"prname\": \"sprite\", \"qty\": 200, \"price\": 120}, \"15\": {\"prname\": \"cake\", \"qty\": 20, \"price\": 250}, \"16\": {\"prname\": \"samosa\", \"qty\": 50, \"price\": 20}, \"17\": {\"prname\": \"thumsup\", \"qty\": 200, \"price\": 25}, \"18\": {\"prname\": \"thumsup\", \"qty\": 90, \"price\": 140}, \"19\": {\"prname\": \"puff\", \"qty\": 50, \"price\": 15}, \"20\": {\"prname\": \"gems\", \"qty\": 100, \"price\": 10}, \"21\": {\"prname\": \"ice cream\", \"qty\": 50, \"price\": 30}, \"22\": {\"prname\": \"dark chcolate\", \"qty\": 20, \"price\": 100}, \"23\": {\"prname\": \"white chocolate\", \"qty\": 20, \"price\": 100}, \"24\": {\"prname\": \"fanta\", \"qty\": 20, \"price\": 20}, \"25\": {\"prname\": \"bred\", \"qty\": 50, \"price\": 10}, \"26\": {\"prname\": \"cookies\", \"qty\": 100, \"price\": 20}, \"27\": {\"prname\": \"moongdhal\", \"qty\": 50, \"price\": 10}, \"28\": {\"prname\": \"burger\", \"qty\": 20, \"price\": 50}, \"29\": {\"prname\": \"milkshake\", \"qty\": 20, \"price\": 80}, \"30\": {\"prname\": \"fruitsalad\", \"qty\": 20, \"price\": 50}, \"33\": {\"prname\": \"milkybar\", \"qty\": \"300\", \"price\": \"5\"}}'"
      ]
     },
     "execution_count": 10,
     "metadata": {},
     "output_type": "execute_result"
    }
   ],
   "source": [
    "finaldata"
   ]
  },
  {
   "cell_type": "code",
   "execution_count": 11,
   "id": "a412000e",
   "metadata": {},
   "outputs": [],
   "source": [
    "fd=open(\"productdata.json\",\"w\")\n",
    "fd.write(finaldata)\n",
    "fd.close()"
   ]
  }
 ],
 "metadata": {
  "kernelspec": {
   "display_name": "Python 3",
   "language": "python",
   "name": "python3"
  },
  "language_info": {
   "codemirror_mode": {
    "name": "ipython",
    "version": 3
   },
   "file_extension": ".py",
   "mimetype": "text/x-python",
   "name": "python",
   "nbconvert_exporter": "python",
   "pygments_lexer": "ipython3",
   "version": "3.8.8"
  }
 },
 "nbformat": 4,
 "nbformat_minor": 5
}
