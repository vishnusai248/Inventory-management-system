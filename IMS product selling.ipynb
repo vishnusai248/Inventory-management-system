{
 "cells": [
  {
   "cell_type": "code",
   "execution_count": 1,
   "id": "5d62a807",
   "metadata": {},
   "outputs": [],
   "source": [
    "import json"
   ]
  },
  {
   "cell_type": "code",
   "execution_count": 2,
   "id": "a29c75c0",
   "metadata": {},
   "outputs": [],
   "source": [
    "pd=open(\"productdata.json\",\"r\")\n",
    "in_data=pd.read()\n",
    "pd.close()\n"
   ]
  },
  {
   "cell_type": "code",
   "execution_count": 3,
   "id": "71ffcc8e",
   "metadata": {},
   "outputs": [],
   "source": [
    "sa_d=open(\"sales.json\",\"r\")\n",
    "sale_collect=sa_d.read()\n",
    "sa_d.close()"
   ]
  },
  {
   "cell_type": "code",
   "execution_count": 4,
   "id": "837518b0",
   "metadata": {},
   "outputs": [
    {
     "data": {
      "text/plain": [
       "'{\"10001\": {\"prod_id\": \"3\", \"prod_qty\": \"2\", \"purchase_amount\": 40}, \"10002\": {\"prod_id\": \"28\", \"prod_qty\": \"4\", \"purchase_amount\": 200}, \"10003\": {\"prod_id\": \"5\", \"prod_qty\": \"1\", \"purchase_amount\": 10}, \"10004\": {\"prod_id\": \"14\", \"prod_qty\": \"8\", \"purchase_amount\": 960}, \"10005\": {\"prod_id\": \"23\", \"prod_qty\": \"4\", \"purchase_amount\": 400}, \"10006\": {\"prod_id\": \"30\", \"prod_qty\": \"4\", \"purchase_amount\": 200}, \"10007\": {\"prod_id\": \"20\", \"prod_qty\": \"1\", \"purchase_amount\": 10}, \"10008\": {\"prod_id\": \"19\", \"prod_qty\": \"5\", \"purchase_amount\": 75}, \"10009\": {\"prod_id\": \"7\", \"prod_qty\": \"10\", \"purchase_amount\": 200}, \"10010\": {\"prod_id\": \"25\", \"prod_qty\": \"7\", \"purchase_amount\": 70}, \"10011\": {\"prod_id\": \"4\", \"prod_qty\": \"1\", \"purchase_amount\": 50}, \"10012\": {\"prod_id\": \"18\", \"prod_qty\": \"3\", \"purchase_amount\": 420}}'"
      ]
     },
     "execution_count": 4,
     "metadata": {},
     "output_type": "execute_result"
    }
   ],
   "source": [
    "sale_collect"
   ]
  },
  {
   "cell_type": "code",
   "execution_count": 5,
   "id": "1919a8de",
   "metadata": {},
   "outputs": [
    {
     "data": {
      "text/plain": [
       "'{\"1\": {\"prname\": \"parle-g biscuits\", \"qty\": 150, \"price\": 20}, \"2\": {\"prname\": \"good day biscuits\", \"qty\": 100, \"price\": 10}, \"3\": {\"prname\": \"marrie gold\", \"qty\": 98, \"price\": 20}, \"4\": {\"prname\": \"dairy milk\", \"qty\": 149, \"price\": 50}, \"5\": {\"prname\": \"5 star\", \"qty\": 199, \"price\": 10}, \"6\": {\"prname\": \"perk\", \"qty\": 200, \"price\": 20}, \"7\": {\"prname\": \"snickers\", \"qty\": 90, \"price\": 20}, \"8\": {\"prname\": \"kur kuray\", \"qty\": 200, \"price\": 10}, \"9\": {\"prname\": \"lays\", \"qty\": 300, \"price\": 10}, \"10\": {\"prname\": \"coca cola\", \"qty\": 200, \"price\": 110}, \"11\": {\"prname\": \"coca cola\", \"qty\": 300, \"price\": 60}, \"12\": {\"prname\": \"pepsi\", \"qty\": 100, \"price\": 25}, \"13\": {\"prname\": \"sprite\", \"qty\": 300, \"price\": 25}, \"14\": {\"prname\": \"sprite\", \"qty\": 192, \"price\": 120}, \"15\": {\"prname\": \"cake\", \"qty\": 20, \"price\": 250}, \"16\": {\"prname\": \"samosa\", \"qty\": 50, \"price\": 20}, \"17\": {\"prname\": \"thumsup\", \"qty\": 200, \"price\": 25}, \"18\": {\"prname\": \"thumsup\", \"qty\": 87, \"price\": 140}, \"19\": {\"prname\": \"puff\", \"qty\": 45, \"price\": 15}, \"20\": {\"prname\": \"gems\", \"qty\": 99, \"price\": 10}, \"21\": {\"prname\": \"ice cream\", \"qty\": 50, \"price\": 30}, \"22\": {\"prname\": \"dark chcolate\", \"qty\": 20, \"price\": 100}, \"23\": {\"prname\": \"white chocolate\", \"qty\": 16, \"price\": 100}, \"24\": {\"prname\": \"fanta\", \"qty\": 20, \"price\": 20}, \"25\": {\"prname\": \"bred\", \"qty\": 43, \"price\": 10}, \"26\": {\"prname\": \"cookies\", \"qty\": 100, \"price\": 20}, \"27\": {\"prname\": \"moongdhal\", \"qty\": 50, \"price\": 10}, \"28\": {\"prname\": \"burger\", \"qty\": 16, \"price\": 50}, \"29\": {\"prname\": \"milkshake\", \"qty\": 20, \"price\": 80}, \"30\": {\"prname\": \"fruitsalad\", \"qty\": 16, \"price\": 50}}'"
      ]
     },
     "execution_count": 5,
     "metadata": {},
     "output_type": "execute_result"
    }
   ],
   "source": [
    "in_data"
   ]
  },
  {
   "cell_type": "code",
   "execution_count": 6,
   "id": "2ca1cf8d",
   "metadata": {},
   "outputs": [],
   "source": [
    "inventory=json.loads(in_data)\n",
    "sale_record=json.loads(sale_collect)"
   ]
  },
  {
   "cell_type": "code",
   "execution_count": 7,
   "id": "cdec5f19",
   "metadata": {},
   "outputs": [],
   "source": [
    "tr_id=10000"
   ]
  },
  {
   "cell_type": "code",
   "execution_count": 8,
   "id": "3ea97007",
   "metadata": {},
   "outputs": [
    {
     "data": {
      "text/plain": [
       "{'10001': {'prod_id': '3', 'prod_qty': '2', 'purchase_amount': 40},\n",
       " '10002': {'prod_id': '28', 'prod_qty': '4', 'purchase_amount': 200},\n",
       " '10003': {'prod_id': '5', 'prod_qty': '1', 'purchase_amount': 10},\n",
       " '10004': {'prod_id': '14', 'prod_qty': '8', 'purchase_amount': 960},\n",
       " '10005': {'prod_id': '23', 'prod_qty': '4', 'purchase_amount': 400},\n",
       " '10006': {'prod_id': '30', 'prod_qty': '4', 'purchase_amount': 200},\n",
       " '10007': {'prod_id': '20', 'prod_qty': '1', 'purchase_amount': 10},\n",
       " '10008': {'prod_id': '19', 'prod_qty': '5', 'purchase_amount': 75},\n",
       " '10009': {'prod_id': '7', 'prod_qty': '10', 'purchase_amount': 200},\n",
       " '10010': {'prod_id': '25', 'prod_qty': '7', 'purchase_amount': 70},\n",
       " '10011': {'prod_id': '4', 'prod_qty': '1', 'purchase_amount': 50},\n",
       " '10012': {'prod_id': '18', 'prod_qty': '3', 'purchase_amount': 420}}"
      ]
     },
     "execution_count": 8,
     "metadata": {},
     "output_type": "execute_result"
    }
   ],
   "source": [
    "sale_record"
   ]
  },
  {
   "cell_type": "code",
   "execution_count": 9,
   "id": "d1fe418f",
   "metadata": {
    "scrolled": true
   },
   "outputs": [
    {
     "data": {
      "text/plain": [
       "{'1': {'prname': 'parle-g biscuits', 'qty': 150, 'price': 20},\n",
       " '2': {'prname': 'good day biscuits', 'qty': 100, 'price': 10},\n",
       " '3': {'prname': 'marrie gold', 'qty': 98, 'price': 20},\n",
       " '4': {'prname': 'dairy milk', 'qty': 149, 'price': 50},\n",
       " '5': {'prname': '5 star', 'qty': 199, 'price': 10},\n",
       " '6': {'prname': 'perk', 'qty': 200, 'price': 20},\n",
       " '7': {'prname': 'snickers', 'qty': 90, 'price': 20},\n",
       " '8': {'prname': 'kur kuray', 'qty': 200, 'price': 10},\n",
       " '9': {'prname': 'lays', 'qty': 300, 'price': 10},\n",
       " '10': {'prname': 'coca cola', 'qty': 200, 'price': 110},\n",
       " '11': {'prname': 'coca cola', 'qty': 300, 'price': 60},\n",
       " '12': {'prname': 'pepsi', 'qty': 100, 'price': 25},\n",
       " '13': {'prname': 'sprite', 'qty': 300, 'price': 25},\n",
       " '14': {'prname': 'sprite', 'qty': 192, 'price': 120},\n",
       " '15': {'prname': 'cake', 'qty': 20, 'price': 250},\n",
       " '16': {'prname': 'samosa', 'qty': 50, 'price': 20},\n",
       " '17': {'prname': 'thumsup', 'qty': 200, 'price': 25},\n",
       " '18': {'prname': 'thumsup', 'qty': 87, 'price': 140},\n",
       " '19': {'prname': 'puff', 'qty': 45, 'price': 15},\n",
       " '20': {'prname': 'gems', 'qty': 99, 'price': 10},\n",
       " '21': {'prname': 'ice cream', 'qty': 50, 'price': 30},\n",
       " '22': {'prname': 'dark chcolate', 'qty': 20, 'price': 100},\n",
       " '23': {'prname': 'white chocolate', 'qty': 16, 'price': 100},\n",
       " '24': {'prname': 'fanta', 'qty': 20, 'price': 20},\n",
       " '25': {'prname': 'bred', 'qty': 43, 'price': 10},\n",
       " '26': {'prname': 'cookies', 'qty': 100, 'price': 20},\n",
       " '27': {'prname': 'moongdhal', 'qty': 50, 'price': 10},\n",
       " '28': {'prname': 'burger', 'qty': 16, 'price': 50},\n",
       " '29': {'prname': 'milkshake', 'qty': 20, 'price': 80},\n",
       " '30': {'prname': 'fruitsalad', 'qty': 16, 'price': 50}}"
      ]
     },
     "execution_count": 9,
     "metadata": {},
     "output_type": "execute_result"
    }
   ],
   "source": [
    "inventory"
   ]
  },
  {
   "cell_type": "code",
   "execution_count": 10,
   "id": "7ff264ff",
   "metadata": {},
   "outputs": [
    {
     "name": "stdout",
     "output_type": "stream",
     "text": [
      "Enter the Product ID : 16\n",
      "Enter the quantity you want : 2\n",
      "\n",
      "-------------------------------------------------\n",
      "\n",
      "\n",
      "*Purchase Bill*\n",
      "\n",
      "Product ID :  16\n",
      "Product Bough :  samosa\n",
      "Product Price(In Rupees) :  20\n",
      "Quantity Bought :  2\n",
      "\n",
      "Total Amount to be Paid(In Rupees):  40\n",
      "\n",
      "-------------------------------------------------\n",
      "\n"
     ]
    }
   ],
   "source": [
    "cr_id=input(\"Enter the Product ID : \")\n",
    "qt=input(\"Enter the quantity you want : \")\n",
    "if(int(qt) > int(inventory[cr_id][\"qty\"])):\n",
    "    print(\"**********\\n\\nSorry, we don't have suffiecient quantity for your requsted quantity of product\\nWe have Only \",products[cr_id][\"qty\"],\"Items of this product\\n\\n**********\")\n",
    "else:\n",
    "    print(\"\\n-------------------------------------------------\\n\")\n",
    "    print(\"\\n*Purchase Bill*\\n\\nProduct ID : \",cr_id)\n",
    "    print(\"Product Bough : \",inventory[cr_id][\"prname\"])\n",
    "    print(\"Product Price(In Rupees) : \",inventory[cr_id][\"price\"])\n",
    "    print(\"Quantity Bought : \",qt) \n",
    "    amount=int(qt)*inventory[cr_id][\"price\"]\n",
    "    print(\"\\nTotal Amount to be Paid(In Rupees): \",amount)\n",
    "    print(\"\\n-------------------------------------------------\\n\")\n",
    "    inventory[cr_id][\"qty\"] = inventory[cr_id][\"qty\"]-int(qt)\n",
    "    tr_id=tr_id+1\n",
    "\n",
    "sale_record[tr_id]={\"prod_id\":cr_id,\"prod_qty\":qt,\"purchase_amount\":amount}\n",
    "\n",
    "\n",
    "\n",
    "        "
   ]
  },
  {
   "cell_type": "code",
   "execution_count": 11,
   "id": "63130571",
   "metadata": {
    "scrolled": true
   },
   "outputs": [
    {
     "data": {
      "text/plain": [
       "{'1': {'prname': 'parle-g biscuits', 'qty': 150, 'price': 20},\n",
       " '2': {'prname': 'good day biscuits', 'qty': 100, 'price': 10},\n",
       " '3': {'prname': 'marrie gold', 'qty': 98, 'price': 20},\n",
       " '4': {'prname': 'dairy milk', 'qty': 149, 'price': 50},\n",
       " '5': {'prname': '5 star', 'qty': 199, 'price': 10},\n",
       " '6': {'prname': 'perk', 'qty': 200, 'price': 20},\n",
       " '7': {'prname': 'snickers', 'qty': 90, 'price': 20},\n",
       " '8': {'prname': 'kur kuray', 'qty': 200, 'price': 10},\n",
       " '9': {'prname': 'lays', 'qty': 300, 'price': 10},\n",
       " '10': {'prname': 'coca cola', 'qty': 200, 'price': 110},\n",
       " '11': {'prname': 'coca cola', 'qty': 300, 'price': 60},\n",
       " '12': {'prname': 'pepsi', 'qty': 100, 'price': 25},\n",
       " '13': {'prname': 'sprite', 'qty': 300, 'price': 25},\n",
       " '14': {'prname': 'sprite', 'qty': 192, 'price': 120},\n",
       " '15': {'prname': 'cake', 'qty': 20, 'price': 250},\n",
       " '16': {'prname': 'samosa', 'qty': 48, 'price': 20},\n",
       " '17': {'prname': 'thumsup', 'qty': 200, 'price': 25},\n",
       " '18': {'prname': 'thumsup', 'qty': 87, 'price': 140},\n",
       " '19': {'prname': 'puff', 'qty': 45, 'price': 15},\n",
       " '20': {'prname': 'gems', 'qty': 99, 'price': 10},\n",
       " '21': {'prname': 'ice cream', 'qty': 50, 'price': 30},\n",
       " '22': {'prname': 'dark chcolate', 'qty': 20, 'price': 100},\n",
       " '23': {'prname': 'white chocolate', 'qty': 16, 'price': 100},\n",
       " '24': {'prname': 'fanta', 'qty': 20, 'price': 20},\n",
       " '25': {'prname': 'bred', 'qty': 43, 'price': 10},\n",
       " '26': {'prname': 'cookies', 'qty': 100, 'price': 20},\n",
       " '27': {'prname': 'moongdhal', 'qty': 50, 'price': 10},\n",
       " '28': {'prname': 'burger', 'qty': 16, 'price': 50},\n",
       " '29': {'prname': 'milkshake', 'qty': 20, 'price': 80},\n",
       " '30': {'prname': 'fruitsalad', 'qty': 16, 'price': 50}}"
      ]
     },
     "execution_count": 11,
     "metadata": {},
     "output_type": "execute_result"
    }
   ],
   "source": [
    "inventory"
   ]
  },
  {
   "cell_type": "code",
   "execution_count": 12,
   "id": "2b4ab8e0",
   "metadata": {},
   "outputs": [
    {
     "data": {
      "text/plain": [
       "{'10001': {'prod_id': '3', 'prod_qty': '2', 'purchase_amount': 40},\n",
       " '10002': {'prod_id': '28', 'prod_qty': '4', 'purchase_amount': 200},\n",
       " '10003': {'prod_id': '5', 'prod_qty': '1', 'purchase_amount': 10},\n",
       " '10004': {'prod_id': '14', 'prod_qty': '8', 'purchase_amount': 960},\n",
       " '10005': {'prod_id': '23', 'prod_qty': '4', 'purchase_amount': 400},\n",
       " '10006': {'prod_id': '30', 'prod_qty': '4', 'purchase_amount': 200},\n",
       " '10007': {'prod_id': '20', 'prod_qty': '1', 'purchase_amount': 10},\n",
       " '10008': {'prod_id': '19', 'prod_qty': '5', 'purchase_amount': 75},\n",
       " '10009': {'prod_id': '7', 'prod_qty': '10', 'purchase_amount': 200},\n",
       " '10010': {'prod_id': '25', 'prod_qty': '7', 'purchase_amount': 70},\n",
       " '10011': {'prod_id': '4', 'prod_qty': '1', 'purchase_amount': 50},\n",
       " '10012': {'prod_id': '18', 'prod_qty': '3', 'purchase_amount': 420},\n",
       " 10001: {'prod_id': '16', 'prod_qty': '2', 'purchase_amount': 40}}"
      ]
     },
     "execution_count": 12,
     "metadata": {},
     "output_type": "execute_result"
    }
   ],
   "source": [
    "sale_record"
   ]
  },
  {
   "cell_type": "code",
   "execution_count": 23,
   "id": "3a1490be",
   "metadata": {},
   "outputs": [
    {
     "name": "stdout",
     "output_type": "stream",
     "text": [
      "total sales of the day  2021-09-06  =  13\n"
     ]
    }
   ],
   "source": [
    "import datetime\n",
    "dt=datetime.date.today()\n",
    "\n",
    "total_sales=len(sale_record)\n",
    "print(\"total sales of the day \",dt,\" = \",total_sales)"
   ]
  },
  {
   "cell_type": "code",
   "execution_count": 24,
   "id": "a9a7eeca",
   "metadata": {},
   "outputs": [],
   "source": [
    "updating=json.dumps(inventory)\n",
    "sales_updation=json.dumps(sale_record)"
   ]
  },
  {
   "cell_type": "code",
   "execution_count": 25,
   "id": "2fdf0818",
   "metadata": {},
   "outputs": [
    {
     "data": {
      "text/plain": [
       "'{\"10001\": {\"prod_id\": \"3\", \"prod_qty\": \"2\", \"purchase_amount\": 40}, \"10002\": {\"prod_id\": \"28\", \"prod_qty\": \"4\", \"purchase_amount\": 200}, \"10003\": {\"prod_id\": \"5\", \"prod_qty\": \"1\", \"purchase_amount\": 10}, \"10004\": {\"prod_id\": \"14\", \"prod_qty\": \"8\", \"purchase_amount\": 960}, \"10005\": {\"prod_id\": \"23\", \"prod_qty\": \"4\", \"purchase_amount\": 400}, \"10006\": {\"prod_id\": \"30\", \"prod_qty\": \"4\", \"purchase_amount\": 200}, \"10007\": {\"prod_id\": \"20\", \"prod_qty\": \"1\", \"purchase_amount\": 10}, \"10008\": {\"prod_id\": \"19\", \"prod_qty\": \"5\", \"purchase_amount\": 75}, \"10009\": {\"prod_id\": \"7\", \"prod_qty\": \"10\", \"purchase_amount\": 200}, \"10010\": {\"prod_id\": \"25\", \"prod_qty\": \"7\", \"purchase_amount\": 70}, \"10011\": {\"prod_id\": \"4\", \"prod_qty\": \"1\", \"purchase_amount\": 50}, \"10012\": {\"prod_id\": \"18\", \"prod_qty\": \"3\", \"purchase_amount\": 420}, \"10001\": {\"prod_id\": \"16\", \"prod_qty\": \"2\", \"purchase_amount\": 40}}'"
      ]
     },
     "execution_count": 25,
     "metadata": {},
     "output_type": "execute_result"
    }
   ],
   "source": [
    "sales_updation"
   ]
  },
  {
   "cell_type": "code",
   "execution_count": 26,
   "id": "b0d03e44",
   "metadata": {},
   "outputs": [],
   "source": [
    "pd=open(\"productdata.json\",\"w\")\n",
    "pd.write(updating)\n",
    "pd.close()"
   ]
  },
  {
   "cell_type": "code",
   "execution_count": 27,
   "id": "63d75077",
   "metadata": {},
   "outputs": [],
   "source": [
    "sdata=open(\"sales.json\",\"w\")\n",
    "sdata.write(sales_updation)\n",
    "sdata.close()"
   ]
  },
  {
   "cell_type": "code",
   "execution_count": null,
   "id": "ad79659b",
   "metadata": {},
   "outputs": [],
   "source": []
  }
 ],
 "metadata": {
  "kernelspec": {
   "display_name": "Python 3",
   "language": "python",
   "name": "python3"
  },
  "language_info": {
   "codemirror_mode": {
    "name": "ipython",
    "version": 3
   },
   "file_extension": ".py",
   "mimetype": "text/x-python",
   "name": "python",
   "nbconvert_exporter": "python",
   "pygments_lexer": "ipython3",
   "version": "3.8.8"
  }
 },
 "nbformat": 4,
 "nbformat_minor": 5
}
